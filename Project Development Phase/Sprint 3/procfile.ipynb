{
  "nbformat": 4,
  "nbformat_minor": 0,
  "metadata": {
    "colab": {
      "provenance": [],
      "collapsed_sections": []
    },
    "kernelspec": {
      "name": "python3",
      "display_name": "Python 3"
    },
    "language_info": {
      "name": "python"
    }
  },
  "cells": [
    {
      "cell_type": "code",
      "source": [
        "web: gunicorn app:app"
      ],
      "metadata": {
        "id": "e0xusKvTmfx2"
      },
      "execution_count": null,
      "outputs": []
    }
  ]
}