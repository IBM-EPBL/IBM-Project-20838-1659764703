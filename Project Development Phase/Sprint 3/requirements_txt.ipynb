{
  "nbformat": 4,
  "nbformat_minor": 0,
  "metadata": {
    "colab": {
      "provenance": []
    },
    "kernelspec": {
      "name": "python3",
      "display_name": "Python 3"
    },
    "language_info": {
      "name": "python"
    }
  },
  "cells": [
    {
      "cell_type": "code",
      "execution_count": null,
      "metadata": {
        "id": "2_EKnwFrntrQ"
      },
      "outputs": [],
      "source": [
        "blinker==1.5\n",
        "CacheControl==0.12.11\n",
        "cachetools==5.2.0\n",
        "careerjet-api-client==3.0.1\n",
        "certifi==2022.9.24\n",
        "cffi==1.15.1\n",
        "charset-normalizer==2.1.1\n",
        "click==8.1.3\n",
        "colorama==0.4.5\n",
        "cryptography==38.0.1\n",
        "Deprecated==1.2.13\n",
        "firebase-admin==6.0.1\n",
        "Flask==2.2.2\n",
        "Flask-Mail==0.9.1\n",
        "gcloud==0.18.3\n",
        "google-api-core==2.10.2\n",
        "google-api-python-client==2.65.0\n",
        "google-auth==2.13.0\n",
        "google-auth-httplib2==0.1.0\n",
        "google-cloud-core==2.3.2\n",
        "google-cloud-firestore==2.7.2\n",
        "google-cloud-storage==2.5.0\n",
        "google-crc32c==1.5.0\n",
        "google-resumable-media==2.4.0\n",
        "google-search-results==2.4.1\n",
        "googleapis-common-protos==1.56.4\n",
        "grpcio==1.50.0\n",
        "grpcio-status==1.50.0\n",
        "gunicorn==20.1.0\n",
        "httplib2==0.20.4\n",
        "ibm-cos-sdk==2.12.0\n",
        "ibm-cos-sdk-core==2.12.0\n",
        "ibm-cos-sdk-s3transfer==2.12.0\n",
        "ibm-db==3.1.3\n",
        "idna==3.4\n",
        "importlib-metadata==5.0.0\n",
        "itsdangerous==2.1.2\n",
        "Jinja2==3.1.2\n",
        "jmespath==0.10.0\n",
        "jwcrypto==1.4.2\n",
        "MarkupSafe==2.1.1\n",
        "msgpack==1.0.4\n",
        "oauth2client==4.1.3\n",
        "proto-plus==1.22.1\n",
        "protobuf==4.21.9\n",
        "pyasn1==0.4.8\n",
        "pyasn1-modules==0.2.8\n",
        "pycparser==2.21\n",
        "pycryptodome==3.15.0\n",
        "PyJWT==2.6.0\n",
        "pyparsing==3.0.9\n",
        "Pyrebase4==4.5.0\n",
        "python-dateutil==2.8.2\n",
        "python-jwt==4.0.0\n",
        "requests==2.28.1\n",
        "requests-toolbelt==0.10.1\n",
        "rsa==4.9\n",
        "six==1.16.0\n",
        "uritemplate==4.1.1\n",
        "urllib3==1.26.12\n",
        "Werkzeug==2.2.2\n",
        "wrapt==1.14.1\n",
        "zipp==3.8.1"
      ]
    }
  ]
}